{
  "nbformat": 4,
  "nbformat_minor": 0,
  "metadata": {
    "accelerator": "GPU",
    "colab": {
      "name": "5.3-using-a-pretrained-convnet.ipynb",
      "provenance": [],
      "collapsed_sections": [],
      "include_colab_link": true
    },
    "kernelspec": {
      "name": "python3",
      "display_name": "Python 3"
    },
    "language_info": {
      "codemirror_mode": {
        "name": "ipython",
        "version": 3
      },
      "file_extension": ".py",
      "mimetype": "text/x-python",
      "name": "python",
      "nbconvert_exporter": "python",
      "pygments_lexer": "ipython3",
      "version": "3.6.8"
    }
  },
  "cells": [
    {
      "cell_type": "markdown",
      "metadata": {
        "id": "view-in-github",
        "colab_type": "text"
      },
      "source": [
        "<a href=\"https://colab.research.google.com/github/apester/cats_and_dogs_small_0403_1/blob/master/5_3_using_a_pretrained_convnet.ipynb\" target=\"_parent\"><img src=\"https://colab.research.google.com/assets/colab-badge.svg\" alt=\"Open In Colab\"/></a>"
      ]
    },
    {
      "cell_type": "code",
      "metadata": {
        "colab_type": "code",
        "id": "BDGiI8QphOtl",
        "outputId": "2d36629c-f4c3-48cb-91e9-e36dc3ab1917",
        "colab": {
          "base_uri": "https://localhost:8080/",
          "height": 99
        }
      },
      "source": [
        "import keras\n",
        "keras.__version__"
      ],
      "execution_count": 2,
      "outputs": [
        {
          "output_type": "stream",
          "text": [
            "Using TensorFlow backend.\n"
          ],
          "name": "stderr"
        },
        {
          "output_type": "display_data",
          "data": {
            "text/html": [
              "<p style=\"color: red;\">\n",
              "The default version of TensorFlow in Colab will soon switch to TensorFlow 2.x.<br>\n",
              "We recommend you <a href=\"https://www.tensorflow.org/guide/migrate\" target=\"_blank\">upgrade</a> now \n",
              "or ensure your notebook will continue to use TensorFlow 1.x via the <code>%tensorflow_version 1.x</code> magic:\n",
              "<a href=\"https://colab.research.google.com/notebooks/tensorflow_version.ipynb\" target=\"_blank\">more info</a>.</p>\n"
            ],
            "text/plain": [
              "<IPython.core.display.HTML object>"
            ]
          },
          "metadata": {
            "tags": []
          }
        },
        {
          "output_type": "execute_result",
          "data": {
            "text/plain": [
              "'2.2.5'"
            ]
          },
          "metadata": {
            "tags": []
          },
          "execution_count": 2
        }
      ]
    },
    {
      "cell_type": "code",
      "metadata": {
        "id": "Kmpslr55nD_N",
        "colab_type": "code",
        "outputId": "74b62baa-8f92-47a8-cdd0-58112d4a9cfd",
        "colab": {
          "base_uri": "https://localhost:8080/",
          "height": 124
        }
      },
      "source": [
        "from google.colab import drive\n",
        "drive.mount('/content/drive', force_remount=True)"
      ],
      "execution_count": 3,
      "outputs": [
        {
          "output_type": "stream",
          "text": [
            "Go to this URL in a browser: https://accounts.google.com/o/oauth2/auth?client_id=947318989803-6bn6qk8qdgf4n4g3pfee6491hc0brc4i.apps.googleusercontent.com&redirect_uri=urn%3aietf%3awg%3aoauth%3a2.0%3aoob&response_type=code&scope=email%20https%3a%2f%2fwww.googleapis.com%2fauth%2fdocs.test%20https%3a%2f%2fwww.googleapis.com%2fauth%2fdrive%20https%3a%2f%2fwww.googleapis.com%2fauth%2fdrive.photos.readonly%20https%3a%2f%2fwww.googleapis.com%2fauth%2fpeopleapi.readonly\n",
            "\n",
            "Enter your authorization code:\n",
            "··········\n",
            "Mounted at /content/drive\n"
          ],
          "name": "stdout"
        }
      ]
    },
    {
      "cell_type": "markdown",
      "metadata": {
        "colab_type": "text",
        "id": "zRFbXGi1hOtr"
      },
      "source": [
        "# Using a pre-trained convnet\n",
        "\n",
        "This notebook contains the code sample found in Chapter 5, Section 3 of [Deep Learning with Python](https://www.manning.com/books/deep-learning-with-python?a_aid=keras&a_bid=76564dff). Note that the original text features far more content, in particular further explanations and figures: in this notebook, you will only find source code and related comments.\n",
        "\n",
        "----\n",
        "\n",
        "A common and highly effective approach to deep learning on small image datasets is to leverage a pre-trained network. A pre-trained network \n",
        "is simply a saved network previously trained on a large dataset, typically on a large-scale image classification task. If this original \n",
        "dataset is large enough and general enough, then the spatial feature hierarchy learned by the pre-trained network can effectively act as a \n",
        "generic model of our visual world, and hence its features can prove useful for many different computer vision problems, even though these \n",
        "new problems might involve completely different classes from those of the original task. For instance, one might train a network on \n",
        "ImageNet (where classes are mostly animals and everyday objects) and then re-purpose this trained network for something as remote as \n",
        "identifying furniture items in images. Such portability of learned features across different problems is a key advantage of deep learning \n",
        "compared to many older shallow learning approaches, and it makes deep learning very effective for small-data problems.\n",
        "\n",
        "In our case, we will consider a large convnet trained on the ImageNet dataset (1.4 million labeled images and 1000 different classes). \n",
        "ImageNet contains many animal classes, including different species of cats and dogs, and we can thus expect to perform very well on our cat \n",
        "vs. dog classification problem.\n",
        "\n",
        "We will use the VGG16 architecture, developed by Karen Simonyan and Andrew Zisserman in 2014, a simple and widely used convnet architecture \n",
        "for ImageNet. Although it is a bit of an older model, far from the current state of the art and somewhat heavier than many other recent \n",
        "models, we chose it because its architecture is similar to what you are already familiar with, and easy to understand without introducing \n",
        "any new concepts. This may be your first encounter with one of these cutesie model names -- VGG, ResNet, Inception, Inception-ResNet, \n",
        "Xception... you will get used to them, as they will come up frequently if you keep doing deep learning for computer vision.\n",
        "\n",
        "There are two ways to leverage a pre-trained network: *feature extraction* and *fine-tuning*. We will cover both of them. Let's start with \n",
        "feature extraction."
      ]
    },
    {
      "cell_type": "markdown",
      "metadata": {
        "colab_type": "text",
        "id": "Coge4aXzhOts"
      },
      "source": [
        "## Feature extraction\n",
        "\n",
        "Feature extraction consists of using the representations learned by a previous network to extract interesting features from new samples. \n",
        "These features are then run through a new classifier, which is trained from scratch.\n",
        "\n",
        "As we saw previously, convnets used for image classification comprise two parts: they start with a series of pooling and convolution \n",
        "layers, and they end with a densely-connected classifier. The first part is called the \"convolutional base\" of the model. In the case of \n",
        "convnets, \"feature extraction\" will simply consist of taking the convolutional base of a previously-trained network, running the new data \n",
        "through it, and training a new classifier on top of the output.\n",
        "\n",
        "![swapping FC classifiers](https://s3.amazonaws.com/book.keras.io/img/ch5/swapping_fc_classifier.png)\n",
        "\n",
        "Why only reuse the convolutional base? Could we reuse the densely-connected classifier as well? In general, it should be avoided. The \n",
        "reason is simply that the representations learned by the convolutional base are likely to be more generic and therefore more reusable: the \n",
        "feature maps of a convnet are presence maps of generic concepts over a picture, which is likely to be useful regardless of the computer \n",
        "vision problem at hand. On the other end, the representations learned by the classifier will necessarily be very specific to the set of \n",
        "classes that the model was trained on -- they will only contain information about the presence probability of this or that class in the \n",
        "entire picture. Additionally, representations found in densely-connected layers no longer contain any information about _where_ objects are \n",
        "located in the input image: these layers get rid of the notion of space, whereas the object location is still described by convolutional \n",
        "feature maps. For problems where object location matters, densely-connected features would be largely useless.\n",
        "\n",
        "Note that the level of generality (and therefore reusability) of the representations extracted by specific convolution layers depends on \n",
        "the depth of the layer in the model. Layers that come earlier in the model extract local, highly generic feature maps (such as visual \n",
        "edges, colors, and textures), while layers higher-up extract more abstract concepts (such as \"cat ear\" or \"dog eye\"). So if your new \n",
        "dataset differs a lot from the dataset that the original model was trained on, you may be better off using only the first few layers of the \n",
        "model to do feature extraction, rather than using the entire convolutional base.\n",
        "\n",
        "In our case, since the ImageNet class set did contain multiple dog and cat classes, it is likely that it would be beneficial to reuse the \n",
        "information contained in the densely-connected layers of the original model. However, we will chose not to, in order to cover the more \n",
        "general case where the class set of the new problem does not overlap with the class set of the original model."
      ]
    },
    {
      "cell_type": "markdown",
      "metadata": {
        "colab_type": "text",
        "id": "ETWNlNZnhOts"
      },
      "source": [
        "Let's put this in practice by using the convolutional base of the VGG16 network, trained on ImageNet, to extract interesting features from \n",
        "our cat and dog images, and then training a cat vs. dog classifier on top of these features.\n",
        "\n",
        "The VGG16 model, among others, comes pre-packaged with Keras. You can import it from the `keras.applications` module. Here's the list of \n",
        "image classification models (all pre-trained on the ImageNet dataset) that are available as part of `keras.applications`:\n",
        "\n",
        "* Xception\n",
        "* InceptionV3\n",
        "* ResNet50\n",
        "* VGG16\n",
        "* VGG19\n",
        "* MobileNet\n",
        "\n",
        "Let's instantiate the VGG16 model:"
      ]
    },
    {
      "cell_type": "code",
      "metadata": {
        "colab_type": "code",
        "id": "ZnX2_wz1hOtt",
        "colab": {}
      },
      "source": [
        "from keras.applications import VGG16\n",
        "\n",
        "conv_base = VGG16(weights='imagenet',\n",
        "                  include_top=False,\n",
        "                  input_shape=(150, 150, 3))"
      ],
      "execution_count": 0,
      "outputs": []
    },
    {
      "cell_type": "markdown",
      "metadata": {
        "colab_type": "text",
        "id": "naLK2ULUhOtv"
      },
      "source": [
        "We passed three arguments to the constructor:\n",
        "\n",
        "* `weights`, to specify which weight checkpoint to initialize the model from\n",
        "* `include_top`, which refers to including or not the densely-connected classifier on top of the network. By default, this \n",
        "densely-connected classifier would correspond to the 1000 classes from ImageNet. Since we intend to use our own densely-connected \n",
        "classifier (with only two classes, cat and dog), we don't need to include it.\n",
        "* `input_shape`, the shape of the image tensors that we will feed to the network. This argument is purely optional: if we don't pass it, \n",
        "then the network will be able to process inputs of any size.\n",
        "\n",
        "Here's the detail of the architecture of the VGG16 convolutional base: it's very similar to the simple convnets that you are already \n",
        "familiar with."
      ]
    },
    {
      "cell_type": "code",
      "metadata": {
        "colab_type": "code",
        "id": "3oM2Qq5mhOtv",
        "outputId": "b085b074-d50e-4243-e08e-2e2a3f9f38ad",
        "colab": {
          "base_uri": "https://localhost:8080/",
          "height": 815
        }
      },
      "source": [
        "conv_base.summary()"
      ],
      "execution_count": 6,
      "outputs": [
        {
          "output_type": "stream",
          "text": [
            "Model: \"vgg16\"\n",
            "_________________________________________________________________\n",
            "Layer (type)                 Output Shape              Param #   \n",
            "=================================================================\n",
            "input_2 (InputLayer)         (None, 150, 150, 3)       0         \n",
            "_________________________________________________________________\n",
            "block1_conv1 (Conv2D)        (None, 150, 150, 64)      1792      \n",
            "_________________________________________________________________\n",
            "block1_conv2 (Conv2D)        (None, 150, 150, 64)      36928     \n",
            "_________________________________________________________________\n",
            "block1_pool (MaxPooling2D)   (None, 75, 75, 64)        0         \n",
            "_________________________________________________________________\n",
            "block2_conv1 (Conv2D)        (None, 75, 75, 128)       73856     \n",
            "_________________________________________________________________\n",
            "block2_conv2 (Conv2D)        (None, 75, 75, 128)       147584    \n",
            "_________________________________________________________________\n",
            "block2_pool (MaxPooling2D)   (None, 37, 37, 128)       0         \n",
            "_________________________________________________________________\n",
            "block3_conv1 (Conv2D)        (None, 37, 37, 256)       295168    \n",
            "_________________________________________________________________\n",
            "block3_conv2 (Conv2D)        (None, 37, 37, 256)       590080    \n",
            "_________________________________________________________________\n",
            "block3_conv3 (Conv2D)        (None, 37, 37, 256)       590080    \n",
            "_________________________________________________________________\n",
            "block3_pool (MaxPooling2D)   (None, 18, 18, 256)       0         \n",
            "_________________________________________________________________\n",
            "block4_conv1 (Conv2D)        (None, 18, 18, 512)       1180160   \n",
            "_________________________________________________________________\n",
            "block4_conv2 (Conv2D)        (None, 18, 18, 512)       2359808   \n",
            "_________________________________________________________________\n",
            "block4_conv3 (Conv2D)        (None, 18, 18, 512)       2359808   \n",
            "_________________________________________________________________\n",
            "block4_pool (MaxPooling2D)   (None, 9, 9, 512)         0         \n",
            "_________________________________________________________________\n",
            "block5_conv1 (Conv2D)        (None, 9, 9, 512)         2359808   \n",
            "_________________________________________________________________\n",
            "block5_conv2 (Conv2D)        (None, 9, 9, 512)         2359808   \n",
            "_________________________________________________________________\n",
            "block5_conv3 (Conv2D)        (None, 9, 9, 512)         2359808   \n",
            "_________________________________________________________________\n",
            "block5_pool (MaxPooling2D)   (None, 4, 4, 512)         0         \n",
            "=================================================================\n",
            "Total params: 14,714,688\n",
            "Trainable params: 14,714,688\n",
            "Non-trainable params: 0\n",
            "_________________________________________________________________\n"
          ],
          "name": "stdout"
        }
      ]
    },
    {
      "cell_type": "markdown",
      "metadata": {
        "colab_type": "text",
        "id": "2PHRFUf1hOty"
      },
      "source": [
        "The final feature map has shape `(4, 4, 512)`. That's the feature on top of which we will stick a densely-connected classifier.\n",
        "\n",
        "At this point, there are two ways we could proceed: \n",
        "\n",
        "* Running the convolutional base over our dataset, recording its output to a Numpy array on disk, then using this data as input to a \n",
        "standalone densely-connected classifier similar to those you have seen in the first chapters of this book. This solution is very fast and \n",
        "cheap to run, because it only requires running the convolutional base once for every input image, and the convolutional base is by far the \n",
        "most expensive part of the pipeline. However, for the exact same reason, this technique would not allow us to leverage data augmentation at \n",
        "all.\n",
        "* Extending the model we have (`conv_base`) by adding `Dense` layers on top, and running the whole thing end-to-end on the input data. This \n",
        "allows us to use data augmentation, because every input image is going through the convolutional base every time it is seen by the model. \n",
        "However, for this same reason, this technique is far more expensive than the first one.\n",
        "\n",
        "We will cover both techniques. Let's walk through the code required to set-up the first one: recording the output of `conv_base` on our \n",
        "data and using these outputs as inputs to a new model.\n",
        "\n",
        "We will start by simply running instances of the previously-introduced `ImageDataGenerator` to extract images as Numpy arrays as well as \n",
        "their labels. We will extract features from these images simply by calling the `predict` method of the `conv_base` model."
      ]
    },
    {
      "cell_type": "code",
      "metadata": {
        "colab_type": "code",
        "id": "EHbb57ajhOty",
        "colab": {}
      },
      "source": [
        "import os\n",
        "import numpy as np\n",
        "from keras.preprocessing.image import ImageDataGenerator\n",
        "\n",
        "# base_dir = 'drive/My Drive/Deep_Learning_with_Python/deep-learning-with-python-notebooks-master/DL_example_with_small_data/cats_and_dogs_small'\n",
        "base_dir = 'drive/My Drive/dogs-vs-cats-small/'\n",
        "train_dir = os.path.join(base_dir, 'train')\n",
        "validation_dir = os.path.join(base_dir, 'validation')\n",
        "test_dir = os.path.join(base_dir, 'test')\n",
        "\n",
        "datagen = ImageDataGenerator(rescale=1./255)\n",
        "batch_size = 20"
      ],
      "execution_count": 0,
      "outputs": []
    },
    {
      "cell_type": "code",
      "metadata": {
        "colab_type": "code",
        "id": "fiCn4b6QhOt0",
        "colab": {}
      },
      "source": [
        "def extract_features(directory, sample_count):\n",
        "    features = np.zeros(shape=(sample_count, 4, 4, 512))\n",
        "    labels = np.zeros(shape=(sample_count))\n",
        "    generator = datagen.flow_from_directory(\n",
        "        directory,\n",
        "        target_size=(150, 150),\n",
        "        batch_size=batch_size,\n",
        "        class_mode='binary')\n",
        "    i = 0\n",
        "    for inputs_batch, labels_batch in generator:\n",
        "        features_batch = conv_base.predict(inputs_batch)\n",
        "        features[i * batch_size : (i + 1) * batch_size] = features_batch\n",
        "        labels[i * batch_size : (i + 1) * batch_size] = labels_batch\n",
        "        i += 1\n",
        "        if i * batch_size >= sample_count:\n",
        "            # Note that since generators yield data indefinitely in a loop,\n",
        "            # we must `break` after every image has been seen once.\n",
        "            break\n",
        "    return features, labels"
      ],
      "execution_count": 0,
      "outputs": []
    },
    {
      "cell_type": "code",
      "metadata": {
        "colab_type": "code",
        "id": "5H4_cs_BhOt2",
        "outputId": "4b4a7a0f-ba2c-4292-b989-b27ebe815563",
        "colab": {
          "base_uri": "https://localhost:8080/",
          "height": 69
        }
      },
      "source": [
        "train_features, train_labels = extract_features(train_dir, 2000)\n",
        "validation_features, validation_labels = extract_features(validation_dir, 1000)\n",
        "test_features, test_labels = extract_features(test_dir, 1000)"
      ],
      "execution_count": 9,
      "outputs": [
        {
          "output_type": "stream",
          "text": [
            "Found 2000 images belonging to 2 classes.\n",
            "Found 1000 images belonging to 2 classes.\n",
            "Found 1000 images belonging to 2 classes.\n"
          ],
          "name": "stdout"
        }
      ]
    },
    {
      "cell_type": "markdown",
      "metadata": {
        "colab_type": "text",
        "id": "S5Xt48vBhOt4"
      },
      "source": [
        "The extracted features are currently of shape `(samples, 4, 4, 512)`. We will feed them to a densely-connected classifier, so first we must \n",
        "flatten them to `(samples, 8192)`:"
      ]
    },
    {
      "cell_type": "code",
      "metadata": {
        "colab_type": "code",
        "id": "ijxB7ekphOt4",
        "colab": {}
      },
      "source": [
        "train_features = np.reshape(train_features, (2000, 4 * 4 * 512))\n",
        "validation_features = np.reshape(validation_features, (1000, 4 * 4 * 512))\n",
        "test_features = np.reshape(test_features, (1000, 4 * 4 * 512))"
      ],
      "execution_count": 0,
      "outputs": []
    },
    {
      "cell_type": "markdown",
      "metadata": {
        "colab_type": "text",
        "id": "J8TOQkZFhOt6"
      },
      "source": [
        "At this point, we can define our densely-connected classifier (note the use of dropout for regularization), and train it on the data and \n",
        "labels that we just recorded:"
      ]
    },
    {
      "cell_type": "code",
      "metadata": {
        "colab_type": "code",
        "id": "dAzqwuj8hOt7",
        "outputId": "9068230c-c82d-4415-bc83-af7e17ef34b0",
        "colab": {
          "base_uri": "https://localhost:8080/",
          "height": 1000
        }
      },
      "source": [
        "from keras import models\n",
        "from keras import layers\n",
        "from keras import optimizers\n",
        "\n",
        "model = models.Sequential()\n",
        "model.add(layers.Dense(256, activation='relu', input_dim=4 * 4 * 512))\n",
        "model.add(layers.Dropout(0.5))\n",
        "model.add(layers.Dense(1, activation='sigmoid'))\n",
        "\n",
        "model.compile(optimizer=optimizers.RMSprop(lr=2e-5),\n",
        "              loss='binary_crossentropy',\n",
        "              metrics=['acc'])\n",
        "\n",
        "history = model.fit(train_features, train_labels,\n",
        "                    epochs=30,\n",
        "                    batch_size=20,\n",
        "                    validation_data=(validation_features, validation_labels))"
      ],
      "execution_count": 11,
      "outputs": [
        {
          "output_type": "stream",
          "text": [
            "WARNING:tensorflow:From /usr/local/lib/python3.6/dist-packages/keras/backend/tensorflow_backend.py:148: The name tf.placeholder_with_default is deprecated. Please use tf.compat.v1.placeholder_with_default instead.\n",
            "\n",
            "WARNING:tensorflow:From /usr/local/lib/python3.6/dist-packages/keras/backend/tensorflow_backend.py:3733: calling dropout (from tensorflow.python.ops.nn_ops) with keep_prob is deprecated and will be removed in a future version.\n",
            "Instructions for updating:\n",
            "Please use `rate` instead of `keep_prob`. Rate should be set to `rate = 1 - keep_prob`.\n",
            "WARNING:tensorflow:From /usr/local/lib/python3.6/dist-packages/keras/optimizers.py:793: The name tf.train.Optimizer is deprecated. Please use tf.compat.v1.train.Optimizer instead.\n",
            "\n",
            "WARNING:tensorflow:From /usr/local/lib/python3.6/dist-packages/keras/backend/tensorflow_backend.py:3657: The name tf.log is deprecated. Please use tf.math.log instead.\n",
            "\n",
            "WARNING:tensorflow:From /usr/local/lib/python3.6/dist-packages/tensorflow_core/python/ops/nn_impl.py:183: where (from tensorflow.python.ops.array_ops) is deprecated and will be removed in a future version.\n",
            "Instructions for updating:\n",
            "Use tf.where in 2.0, which has the same broadcast rule as np.where\n",
            "WARNING:tensorflow:From /usr/local/lib/python3.6/dist-packages/keras/backend/tensorflow_backend.py:1033: The name tf.assign_add is deprecated. Please use tf.compat.v1.assign_add instead.\n",
            "\n",
            "WARNING:tensorflow:From /usr/local/lib/python3.6/dist-packages/keras/backend/tensorflow_backend.py:1020: The name tf.assign is deprecated. Please use tf.compat.v1.assign instead.\n",
            "\n",
            "Train on 2000 samples, validate on 1000 samples\n",
            "Epoch 1/30\n",
            "2000/2000 [==============================] - 1s 630us/step - loss: 0.6077 - acc: 0.6610 - val_loss: 0.4470 - val_acc: 0.8300\n",
            "Epoch 2/30\n",
            "2000/2000 [==============================] - 1s 445us/step - loss: 0.4417 - acc: 0.8055 - val_loss: 0.3654 - val_acc: 0.8660\n",
            "Epoch 3/30\n",
            "2000/2000 [==============================] - 1s 452us/step - loss: 0.3612 - acc: 0.8470 - val_loss: 0.3237 - val_acc: 0.8720\n",
            "Epoch 4/30\n",
            "2000/2000 [==============================] - 1s 460us/step - loss: 0.3194 - acc: 0.8700 - val_loss: 0.3006 - val_acc: 0.8800\n",
            "Epoch 5/30\n",
            "2000/2000 [==============================] - 1s 459us/step - loss: 0.2914 - acc: 0.8905 - val_loss: 0.2852 - val_acc: 0.8870\n",
            "Epoch 6/30\n",
            "2000/2000 [==============================] - 1s 471us/step - loss: 0.2746 - acc: 0.8905 - val_loss: 0.2837 - val_acc: 0.8850\n",
            "Epoch 7/30\n",
            "2000/2000 [==============================] - 1s 464us/step - loss: 0.2521 - acc: 0.9060 - val_loss: 0.2760 - val_acc: 0.8890\n",
            "Epoch 8/30\n",
            "2000/2000 [==============================] - 1s 463us/step - loss: 0.2336 - acc: 0.9055 - val_loss: 0.2670 - val_acc: 0.8910\n",
            "Epoch 9/30\n",
            "2000/2000 [==============================] - 1s 469us/step - loss: 0.2231 - acc: 0.9150 - val_loss: 0.2524 - val_acc: 0.8990\n",
            "Epoch 10/30\n",
            "2000/2000 [==============================] - 1s 487us/step - loss: 0.2051 - acc: 0.9200 - val_loss: 0.2481 - val_acc: 0.9000\n",
            "Epoch 11/30\n",
            "2000/2000 [==============================] - 1s 451us/step - loss: 0.1965 - acc: 0.9345 - val_loss: 0.2491 - val_acc: 0.8930\n",
            "Epoch 12/30\n",
            "2000/2000 [==============================] - 1s 455us/step - loss: 0.1860 - acc: 0.9330 - val_loss: 0.2426 - val_acc: 0.9010\n",
            "Epoch 13/30\n",
            "2000/2000 [==============================] - 1s 470us/step - loss: 0.1849 - acc: 0.9330 - val_loss: 0.2448 - val_acc: 0.8990\n",
            "Epoch 14/30\n",
            "2000/2000 [==============================] - 1s 440us/step - loss: 0.1726 - acc: 0.9360 - val_loss: 0.2502 - val_acc: 0.8960\n",
            "Epoch 15/30\n",
            "2000/2000 [==============================] - 1s 446us/step - loss: 0.1667 - acc: 0.9405 - val_loss: 0.2373 - val_acc: 0.9030\n",
            "Epoch 16/30\n",
            "2000/2000 [==============================] - 1s 455us/step - loss: 0.1547 - acc: 0.9455 - val_loss: 0.2363 - val_acc: 0.9060\n",
            "Epoch 17/30\n",
            "2000/2000 [==============================] - 1s 459us/step - loss: 0.1488 - acc: 0.9440 - val_loss: 0.2383 - val_acc: 0.8990\n",
            "Epoch 18/30\n",
            "2000/2000 [==============================] - 1s 463us/step - loss: 0.1464 - acc: 0.9535 - val_loss: 0.2402 - val_acc: 0.8980\n",
            "Epoch 19/30\n",
            "2000/2000 [==============================] - 1s 468us/step - loss: 0.1431 - acc: 0.9485 - val_loss: 0.2421 - val_acc: 0.9040\n",
            "Epoch 20/30\n",
            "2000/2000 [==============================] - 1s 459us/step - loss: 0.1365 - acc: 0.9565 - val_loss: 0.2443 - val_acc: 0.8990\n",
            "Epoch 21/30\n",
            "2000/2000 [==============================] - 1s 439us/step - loss: 0.1277 - acc: 0.9615 - val_loss: 0.2384 - val_acc: 0.9010\n",
            "Epoch 22/30\n",
            "2000/2000 [==============================] - 1s 444us/step - loss: 0.1219 - acc: 0.9620 - val_loss: 0.2336 - val_acc: 0.9050\n",
            "Epoch 23/30\n",
            "2000/2000 [==============================] - 1s 473us/step - loss: 0.1200 - acc: 0.9545 - val_loss: 0.2366 - val_acc: 0.9050\n",
            "Epoch 24/30\n",
            "2000/2000 [==============================] - 1s 465us/step - loss: 0.1135 - acc: 0.9585 - val_loss: 0.2511 - val_acc: 0.8970\n",
            "Epoch 25/30\n",
            "2000/2000 [==============================] - 1s 468us/step - loss: 0.1054 - acc: 0.9705 - val_loss: 0.2365 - val_acc: 0.9070\n",
            "Epoch 26/30\n",
            "2000/2000 [==============================] - 1s 460us/step - loss: 0.1028 - acc: 0.9670 - val_loss: 0.2424 - val_acc: 0.9040\n",
            "Epoch 27/30\n",
            "2000/2000 [==============================] - 1s 474us/step - loss: 0.1036 - acc: 0.9675 - val_loss: 0.2338 - val_acc: 0.9050\n",
            "Epoch 28/30\n",
            "2000/2000 [==============================] - 1s 483us/step - loss: 0.0957 - acc: 0.9715 - val_loss: 0.2349 - val_acc: 0.9040\n",
            "Epoch 29/30\n",
            "2000/2000 [==============================] - 1s 472us/step - loss: 0.0945 - acc: 0.9735 - val_loss: 0.2496 - val_acc: 0.9010\n",
            "Epoch 30/30\n",
            "2000/2000 [==============================] - 1s 478us/step - loss: 0.0925 - acc: 0.9735 - val_loss: 0.2366 - val_acc: 0.9000\n"
          ],
          "name": "stdout"
        }
      ]
    },
    {
      "cell_type": "markdown",
      "metadata": {
        "colab_type": "text",
        "id": "JH_BKAqHhOt-"
      },
      "source": [
        "Training is very fast, since we only have to deal with two `Dense` layers -- an epoch takes less than one second even on CPU.\n",
        "\n",
        "Let's take a look at the loss and accuracy curves during training:"
      ]
    },
    {
      "cell_type": "code",
      "metadata": {
        "colab_type": "code",
        "id": "8LgliGDXhOt-",
        "outputId": "639487f0-fc16-4f02-f4d2-0764c759da5c",
        "colab": {
          "base_uri": "https://localhost:8080/",
          "height": 545
        }
      },
      "source": [
        "import matplotlib.pyplot as plt\n",
        "\n",
        "acc = history.history['acc']\n",
        "val_acc = history.history['val_acc']\n",
        "loss = history.history['loss']\n",
        "val_loss = history.history['val_loss']\n",
        "\n",
        "epochs = range(len(acc))\n",
        "\n",
        "plt.plot(epochs, acc, 'bo', label='Training acc')\n",
        "plt.plot(epochs, val_acc, 'b', label='Validation acc')\n",
        "plt.title('Training and validation accuracy')\n",
        "plt.legend()\n",
        "\n",
        "plt.figure()\n",
        "\n",
        "plt.plot(epochs, loss, 'bo', label='Training loss')\n",
        "plt.plot(epochs, val_loss, 'b', label='Validation loss')\n",
        "plt.title('Training and validation loss')\n",
        "plt.legend()\n",
        "\n",
        "plt.show()"
      ],
      "execution_count": 12,
      "outputs": [
        {
          "output_type": "display_data",
          "data": {
            "image/png": "[encoded data removed]",
            "text/plain": [
              "<Figure size 432x288 with 1 Axes>"
            ]
          },
          "metadata": {
            "tags": []
          }
        },
        {
          "output_type": "display_data",
          "data": {
            "image/png": "[encoded data removed]",
            "text/plain": [
              "<Figure size 432x288 with 1 Axes>"
            ]
          },
          "metadata": {
            "tags": []
          }
        }
      ]
    },
    {
      "cell_type": "markdown",
      "metadata": {
        "colab_type": "text",
        "id": "blAItseNhOuB"
      },
      "source": [
        "\n",
        "We reach a validation accuracy of about 90%, much better than what we could achieve in the previous section with our small model trained from \n",
        "scratch. However, our plots also indicate that we are overfitting almost from the start -- despite using dropout with a fairly large rate. \n",
        "This is because this technique does not leverage data augmentation, which is essential to preventing overfitting with small image datasets.\n",
        "\n",
        "Now, let's review the second technique we mentioned for doing feature extraction, which is much slower and more expensive, but which allows \n",
        "us to leverage data augmentation during training: extending the `conv_base` model and running it end-to-end on the inputs. Note that this \n",
        "technique is in fact so expensive that you should only attempt it if you have access to a GPU: it is absolutely intractable on CPU. If you \n",
        "cannot run your code on GPU, then the previous technique is the way to go.\n",
        "\n",
        "Because models behave just like layers, you can add a model (like our `conv_base`) to a `Sequential` model just like you would add a layer. \n",
        "So you can do the following:"
      ]
    },
    {
      "cell_type": "code",
      "metadata": {
        "colab_type": "code",
        "id": "imarHbyWhOuB",
        "colab": {}
      },
      "source": [
        "from keras import models\n",
        "from keras import layers\n",
        "\n",
        "model = models.Sequential()\n",
        "model.add(conv_base)\n",
        "model.add(layers.Flatten())\n",
        "model.add(layers.Dense(256, activation='relu'))\n",
        "model.add(layers.Dense(1, activation='sigmoid'))"
      ],
      "execution_count": 0,
      "outputs": []
    },
    {
      "cell_type": "markdown",
      "metadata": {
        "colab_type": "text",
        "id": "jAbKiFDnhOuD"
      },
      "source": [
        "This is what our model looks like now:"
      ]
    },
    {
      "cell_type": "code",
      "metadata": {
        "colab_type": "code",
        "id": "8PkLHQ-WhOuE",
        "outputId": "1f0fc5b2-81f6-4d00-ba97-d5d78c474fa4",
        "colab": {
          "base_uri": "https://localhost:8080/",
          "height": 295
        }
      },
      "source": [
        "model.summary()"
      ],
      "execution_count": 14,
      "outputs": [
        {
          "output_type": "stream",
          "text": [
            "Model: \"sequential_2\"\n",
            "_________________________________________________________________\n",
            "Layer (type)                 Output Shape              Param #   \n",
            "=================================================================\n",
            "vgg16 (Model)                (None, 4, 4, 512)         14714688  \n",
            "_________________________________________________________________\n",
            "flatten_1 (Flatten)          (None, 8192)              0         \n",
            "_________________________________________________________________\n",
            "dense_3 (Dense)              (None, 256)               2097408   \n",
            "_________________________________________________________________\n",
            "dense_4 (Dense)              (None, 1)                 257       \n",
            "=================================================================\n",
            "Total params: 16,812,353\n",
            "Trainable params: 16,812,353\n",
            "Non-trainable params: 0\n",
            "_________________________________________________________________\n"
          ],
          "name": "stdout"
        }
      ]
    },
    {
      "cell_type": "markdown",
      "metadata": {
        "colab_type": "text",
        "id": "0-J8slizhOuF"
      },
      "source": [
        "As you can see, the convolutional base of VGG16 has 14,714,688 parameters, which is very large. The classifier we are adding on top has 2 \n",
        "million parameters.\n",
        "\n",
        "Before we compile and train our model, a very important thing to do is to freeze the convolutional base. \"Freezing\" a layer or set of \n",
        "layers means preventing their weights from getting updated during training. If we don't do this, then the representations that were \n",
        "previously learned by the convolutional base would get modified during training. Since the `Dense` layers on top are randomly initialized, \n",
        "very large weight updates would be propagated through the network, effectively destroying the representations previously learned.\n",
        "\n",
        "In Keras, freezing a network is done by setting its `trainable` attribute to `False`:"
      ]
    },
    {
      "cell_type": "code",
      "metadata": {
        "colab_type": "code",
        "id": "jtY4iGfDhOuG",
        "outputId": "3e6ae5ec-6162-4649-d4fe-c9966cc58317",
        "colab": {
          "base_uri": "https://localhost:8080/",
          "height": 35
        }
      },
      "source": [
        "print('This is the number of trainable weights '\n",
        "      'before freezing the conv base:', len(model.trainable_weights))"
      ],
      "execution_count": 15,
      "outputs": [
        {
          "output_type": "stream",
          "text": [
            "This is the number of trainable weights before freezing the conv base: 30\n"
          ],
          "name": "stdout"
        }
      ]
    },
    {
      "cell_type": "code",
      "metadata": {
        "colab_type": "code",
        "id": "oRRKSCyVhOuI",
        "colab": {}
      },
      "source": [
        "conv_base.trainable = False"
      ],
      "execution_count": 0,
      "outputs": []
    },
    {
      "cell_type": "code",
      "metadata": {
        "colab_type": "code",
        "id": "zmDrOU35hOuK",
        "outputId": "1d29f34d-ce25-48ef-e96c-d49e5457062e",
        "colab": {
          "base_uri": "https://localhost:8080/",
          "height": 35
        }
      },
      "source": [
        "print('This is the number of trainable weights '\n",
        "      'after freezing the conv base:', len(model.trainable_weights))"
      ],
      "execution_count": 17,
      "outputs": [
        {
          "output_type": "stream",
          "text": [
            "This is the number of trainable weights after freezing the conv base: 4\n"
          ],
          "name": "stdout"
        }
      ]
    },
    {
      "cell_type": "markdown",
      "metadata": {
        "colab_type": "text",
        "id": "asUJuIhPhOuM"
      },
      "source": [
        "With this setup, only the weights from the two `Dense` layers that we added will be trained. That's a total of four weight tensors: two per \n",
        "layer (the main weight matrix and the bias vector). Note that in order for these changes to take effect, we must first compile the model. \n",
        "If you ever modify weight trainability after compilation, you should then re-compile the model, or these changes would be ignored.\n",
        "\n",
        "Now we can start training our model, with the same data augmentation configuration that we used in our previous example:"
      ]
    },
    {
      "cell_type": "code",
      "metadata": {
        "colab_type": "code",
        "id": "0WBY1w2WhOuN",
        "scrolled": true,
        "outputId": "b61971a3-290b-4498-b8c4-e1ecdfb76973",
        "colab": {
          "base_uri": "https://localhost:8080/",
          "height": 1000
        }
      },
      "source": [
        "from keras.preprocessing.image import ImageDataGenerator\n",
        "\n",
        "train_datagen = ImageDataGenerator(\n",
        "      rescale=1./255,\n",
        "      rotation_range=40,\n",
        "      width_shift_range=0.2,\n",
        "      height_shift_range=0.2,\n",
        "      shear_range=0.2,\n",
        "      zoom_range=0.2,\n",
        "      horizontal_flip=True,\n",
        "      fill_mode='nearest')\n",
        "\n",
        "# Note that the validation data should not be augmented!\n",
        "test_datagen = ImageDataGenerator(rescale=1./255)\n",
        "\n",
        "train_generator = train_datagen.flow_from_directory(\n",
        "        # This is the target directory\n",
        "        train_dir,\n",
        "        # All images will be resized to 150x150\n",
        "        target_size=(150, 150),\n",
        "        batch_size=20,\n",
        "        # Since we use binary_crossentropy loss, we need binary labels\n",
        "        class_mode='binary')\n",
        "\n",
        "validation_generator = test_datagen.flow_from_directory(\n",
        "        validation_dir,\n",
        "        target_size=(150, 150),\n",
        "        batch_size=20,\n",
        "        class_mode='binary')\n",
        "\n",
        "model.compile(loss='binary_crossentropy',\n",
        "              optimizer=optimizers.RMSprop(lr=2e-5),\n",
        "              metrics=['acc'])\n",
        "\n",
        "history = model.fit_generator(\n",
        "      train_generator,\n",
        "      steps_per_epoch=100,\n",
        "      epochs=30,\n",
        "      validation_data=validation_generator,\n",
        "      validation_steps=50,\n",
        "      verbose=2)"
      ],
      "execution_count": 18,
      "outputs": [
        {
          "output_type": "stream",
          "text": [
            "Found 2000 images belonging to 2 classes.\n",
            "Found 1000 images belonging to 2 classes.\n",
            "Epoch 1/30\n",
            " - 29s - loss: 0.6058 - acc: 0.6730 - val_loss: 0.4563 - val_acc: 0.8150\n",
            "Epoch 2/30\n",
            " - 27s - loss: 0.4859 - acc: 0.7855 - val_loss: 0.3653 - val_acc: 0.8610\n",
            "Epoch 3/30\n",
            " - 27s - loss: 0.4343 - acc: 0.8070 - val_loss: 0.3283 - val_acc: 0.8680\n",
            "Epoch 4/30\n",
            " - 27s - loss: 0.4056 - acc: 0.8235 - val_loss: 0.3012 - val_acc: 0.8830\n",
            "Epoch 5/30\n",
            " - 26s - loss: 0.3950 - acc: 0.8295 - val_loss: 0.2841 - val_acc: 0.8820\n",
            "Epoch 6/30\n",
            " - 27s - loss: 0.3720 - acc: 0.8375 - val_loss: 0.2926 - val_acc: 0.8790\n",
            "Epoch 7/30\n",
            " - 26s - loss: 0.3492 - acc: 0.8460 - val_loss: 0.2700 - val_acc: 0.8840\n",
            "Epoch 8/30\n",
            " - 26s - loss: 0.3552 - acc: 0.8530 - val_loss: 0.2659 - val_acc: 0.8840\n",
            "Epoch 9/30\n",
            " - 26s - loss: 0.3502 - acc: 0.8470 - val_loss: 0.2605 - val_acc: 0.8910\n",
            "Epoch 10/30\n",
            " - 26s - loss: 0.3362 - acc: 0.8575 - val_loss: 0.2678 - val_acc: 0.8850\n",
            "Epoch 11/30\n",
            " - 26s - loss: 0.3207 - acc: 0.8660 - val_loss: 0.2558 - val_acc: 0.8950\n",
            "Epoch 12/30\n",
            " - 26s - loss: 0.3222 - acc: 0.8595 - val_loss: 0.2447 - val_acc: 0.9000\n",
            "Epoch 13/30\n",
            " - 26s - loss: 0.3203 - acc: 0.8570 - val_loss: 0.2473 - val_acc: 0.8930\n",
            "Epoch 14/30\n",
            " - 26s - loss: 0.3135 - acc: 0.8645 - val_loss: 0.2440 - val_acc: 0.9040\n",
            "Epoch 15/30\n",
            " - 26s - loss: 0.3125 - acc: 0.8710 - val_loss: 0.2504 - val_acc: 0.8950\n",
            "Epoch 16/30\n",
            " - 27s - loss: 0.3166 - acc: 0.8670 - val_loss: 0.2395 - val_acc: 0.9030\n",
            "Epoch 17/30\n",
            " - 26s - loss: 0.3137 - acc: 0.8665 - val_loss: 0.2369 - val_acc: 0.8990\n",
            "Epoch 18/30\n",
            " - 26s - loss: 0.3073 - acc: 0.8710 - val_loss: 0.2357 - val_acc: 0.9040\n",
            "Epoch 19/30\n",
            " - 26s - loss: 0.3090 - acc: 0.8705 - val_loss: 0.2343 - val_acc: 0.9040\n",
            "Epoch 20/30\n",
            " - 26s - loss: 0.3147 - acc: 0.8585 - val_loss: 0.2352 - val_acc: 0.9030\n",
            "Epoch 21/30\n",
            " - 26s - loss: 0.2959 - acc: 0.8740 - val_loss: 0.2344 - val_acc: 0.9040\n",
            "Epoch 22/30\n",
            " - 26s - loss: 0.3023 - acc: 0.8700 - val_loss: 0.2366 - val_acc: 0.9000\n",
            "Epoch 23/30\n",
            " - 26s - loss: 0.2989 - acc: 0.8645 - val_loss: 0.2347 - val_acc: 0.9050\n",
            "Epoch 24/30\n",
            " - 26s - loss: 0.3009 - acc: 0.8690 - val_loss: 0.2338 - val_acc: 0.9050\n",
            "Epoch 25/30\n",
            " - 26s - loss: 0.2910 - acc: 0.8770 - val_loss: 0.2389 - val_acc: 0.9030\n",
            "Epoch 26/30\n",
            " - 27s - loss: 0.2863 - acc: 0.8770 - val_loss: 0.2324 - val_acc: 0.9040\n",
            "Epoch 27/30\n",
            " - 26s - loss: 0.2905 - acc: 0.8695 - val_loss: 0.2323 - val_acc: 0.9040\n",
            "Epoch 28/30\n",
            " - 26s - loss: 0.2782 - acc: 0.8845 - val_loss: 0.2349 - val_acc: 0.9050\n",
            "Epoch 29/30\n",
            " - 26s - loss: 0.3033 - acc: 0.8705 - val_loss: 0.2348 - val_acc: 0.8990\n",
            "Epoch 30/30\n",
            " - 27s - loss: 0.2815 - acc: 0.8805 - val_loss: 0.2345 - val_acc: 0.9040\n"
          ],
          "name": "stdout"
        }
      ]
    },
    {
      "cell_type": "code",
      "metadata": {
        "colab_type": "code",
        "id": "8Gljo-jWhOuP",
        "colab": {}
      },
      "source": [
        "model.save('cats_and_dogs_small_3.h5')"
      ],
      "execution_count": 0,
      "outputs": []
    },
    {
      "cell_type": "markdown",
      "metadata": {
        "colab_type": "text",
        "id": "DYdLSTPUhOuR"
      },
      "source": [
        "Let's plot our results again:"
      ]
    },
    {
      "cell_type": "code",
      "metadata": {
        "colab_type": "code",
        "id": "sDuRsTvGhOuS",
        "outputId": "82594876-685b-4ee3-bc78-87707c32bb02",
        "colab": {
          "base_uri": "https://localhost:8080/",
          "height": 545
        }
      },
      "source": [
        "acc = history.history['acc']\n",
        "val_acc = history.history['val_acc']\n",
        "loss = history.history['loss']\n",
        "val_loss = history.history['val_loss']\n",
        "\n",
        "epochs = range(len(acc))\n",
        "\n",
        "plt.plot(epochs, acc, 'bo', label='Training acc')\n",
        "plt.plot(epochs, val_acc, 'b', label='Validation acc')\n",
        "plt.title('Training and validation accuracy')\n",
        "plt.legend()\n",
        "\n",
        "plt.figure()\n",
        "\n",
        "plt.plot(epochs, loss, 'bo', label='Training loss')\n",
        "plt.plot(epochs, val_loss, 'b', label='Validation loss')\n",
        "plt.title('Training and validation loss')\n",
        "plt.legend()\n",
        "\n",
        "plt.show()"
      ],
      "execution_count": 20,
      "outputs": [
        {
          "output_type": "display_data",
          "data": {
            "image/png": "[encoded data removed]",
            "text/plain": [
              "<Figure size 432x288 with 1 Axes>"
            ]
          },
          "metadata": {
            "tags": []
          }
        },
        {
          "output_type": "display_data",
          "data": {
            "image/png": "[encoded data removed]",
            "text/plain": [
              "<Figure size 432x288 with 1 Axes>"
            ]
          },
          "metadata": {
            "tags": []
          }
        }
      ]
    },
    {
      "cell_type": "markdown",
      "metadata": {
        "colab_type": "text",
        "id": "UkmGMFn2hOuW"
      },
      "source": [
        "As you can see, we reach a validation accuracy of about 96%. This is much better than our small convnet trained from scratch."
      ]
    },
    {
      "cell_type": "markdown",
      "metadata": {
        "colab_type": "text",
        "id": "YoZVTRvfhOuY"
      },
      "source": [
        "## Fine-tuning\n",
        "\n",
        "Another widely used technique for model reuse, complementary to feature extraction, is _fine-tuning_. \n",
        "Fine-tuning consists in unfreezing a few of the top layers \n",
        "of a frozen model base used for feature extraction, and jointly training both the newly added part of the model (in our case, the \n",
        "fully-connected classifier) and these top layers. This is called \"fine-tuning\" because it slightly adjusts the more abstract \n",
        "representations of the model being reused, in order to make them more relevant for the problem at hand.\n",
        "\n",
        "![fine-tuning VGG16](https://s3.amazonaws.com/book.keras.io/img/ch5/vgg16_fine_tuning.png)"
      ]
    },
    {
      "cell_type": "markdown",
      "metadata": {
        "colab_type": "text",
        "id": "o8P-WAtehOuZ"
      },
      "source": [
        "We have stated before that it was necessary to freeze the convolution base of VGG16 in order to be able to train a randomly initialized \n",
        "classifier on top. For the same reason, it is only possible to fine-tune the top layers of the convolutional base once the classifier on \n",
        "top has already been trained. If the classified wasn't already trained, then the error signal propagating through the network during \n",
        "training would be too large, and the representations previously learned by the layers being fine-tuned would be destroyed. Thus the steps \n",
        "for fine-tuning a network are as follow:\n",
        "\n",
        "* 1) Add your custom network on top of an already trained base network.\n",
        "* 2) Freeze the base network.\n",
        "* 3) Train the part you added.\n",
        "* 4) Unfreeze some layers in the base network.\n",
        "* 5) Jointly train both these layers and the part you added.\n",
        "\n",
        "We have already completed the first 3 steps when doing feature extraction. Let's proceed with the 4th step: we will unfreeze our `conv_base`, \n",
        "and then freeze individual layers inside of it.\n",
        "\n",
        "As a reminder, this is what our convolutional base looks like:"
      ]
    },
    {
      "cell_type": "code",
      "metadata": {
        "colab_type": "code",
        "id": "Vr1RI4I8hOuZ",
        "outputId": "63ed5e6c-ed09-4186-9ba5-70d25f6ae63b",
        "colab": {
          "base_uri": "https://localhost:8080/",
          "height": 815
        }
      },
      "source": [
        "conv_base.summary()"
      ],
      "execution_count": 21,
      "outputs": [
        {
          "output_type": "stream",
          "text": [
            "Model: \"vgg16\"\n",
            "_________________________________________________________________\n",
            "Layer (type)                 Output Shape              Param #   \n",
            "=================================================================\n",
            "input_2 (InputLayer)         (None, 150, 150, 3)       0         \n",
            "_________________________________________________________________\n",
            "block1_conv1 (Conv2D)        (None, 150, 150, 64)      1792      \n",
            "_________________________________________________________________\n",
            "block1_conv2 (Conv2D)        (None, 150, 150, 64)      36928     \n",
            "_________________________________________________________________\n",
            "block1_pool (MaxPooling2D)   (None, 75, 75, 64)        0         \n",
            "_________________________________________________________________\n",
            "block2_conv1 (Conv2D)        (None, 75, 75, 128)       73856     \n",
            "_________________________________________________________________\n",
            "block2_conv2 (Conv2D)        (None, 75, 75, 128)       147584    \n",
            "_________________________________________________________________\n",
            "block2_pool (MaxPooling2D)   (None, 37, 37, 128)       0         \n",
            "_________________________________________________________________\n",
            "block3_conv1 (Conv2D)        (None, 37, 37, 256)       295168    \n",
            "_________________________________________________________________\n",
            "block3_conv2 (Conv2D)        (None, 37, 37, 256)       590080    \n",
            "_________________________________________________________________\n",
            "block3_conv3 (Conv2D)        (None, 37, 37, 256)       590080    \n",
            "_________________________________________________________________\n",
            "block3_pool (MaxPooling2D)   (None, 18, 18, 256)       0         \n",
            "_________________________________________________________________\n",
            "block4_conv1 (Conv2D)        (None, 18, 18, 512)       1180160   \n",
            "_________________________________________________________________\n",
            "block4_conv2 (Conv2D)        (None, 18, 18, 512)       2359808   \n",
            "_________________________________________________________________\n",
            "block4_conv3 (Conv2D)        (None, 18, 18, 512)       2359808   \n",
            "_________________________________________________________________\n",
            "block4_pool (MaxPooling2D)   (None, 9, 9, 512)         0         \n",
            "_________________________________________________________________\n",
            "block5_conv1 (Conv2D)        (None, 9, 9, 512)         2359808   \n",
            "_________________________________________________________________\n",
            "block5_conv2 (Conv2D)        (None, 9, 9, 512)         2359808   \n",
            "_________________________________________________________________\n",
            "block5_conv3 (Conv2D)        (None, 9, 9, 512)         2359808   \n",
            "_________________________________________________________________\n",
            "block5_pool (MaxPooling2D)   (None, 4, 4, 512)         0         \n",
            "=================================================================\n",
            "Total params: 14,714,688\n",
            "Trainable params: 0\n",
            "Non-trainable params: 14,714,688\n",
            "_________________________________________________________________\n"
          ],
          "name": "stdout"
        }
      ]
    },
    {
      "cell_type": "markdown",
      "metadata": {
        "colab_type": "text",
        "id": "fxGhNqQ8hOub"
      },
      "source": [
        "\n",
        "We will fine-tune the last 3 convolutional layers, which means that all layers up until `block4_pool` should be frozen, and the layers \n",
        "`block5_conv1`, `block5_conv2` and `block5_conv3` should be trainable.\n",
        "\n",
        "Why not fine-tune more layers? Why not fine-tune the entire convolutional base? We could. However, we need to consider that:\n",
        "\n",
        "* Earlier layers in the convolutional base encode more generic, reusable features, while layers higher up encode more specialized features. It is \n",
        "more useful to fine-tune the more specialized features, as these are the ones that need to be repurposed on our new problem. There would \n",
        "be fast-decreasing returns in fine-tuning lower layers.\n",
        "* The more parameters we are training, the more we are at risk of overfitting. The convolutional base has 15M parameters, so it would be \n",
        "risky to attempt to train it on our small dataset.\n",
        "\n",
        "Thus, in our situation, it is a good strategy to only fine-tune the top 2 to 3 layers in the convolutional base.\n",
        "\n",
        "Let's set this up, starting from where we left off in the previous example:"
      ]
    },
    {
      "cell_type": "code",
      "metadata": {
        "colab_type": "code",
        "id": "Ckma3lc7hOuc",
        "colab": {}
      },
      "source": [
        "conv_base.trainable = True\n",
        "\n",
        "set_trainable = False\n",
        "for layer in conv_base.layers:\n",
        "    if layer.name == 'block5_conv1':\n",
        "        set_trainable = True\n",
        "    if set_trainable:\n",
        "        layer.trainable = True\n",
        "    else:\n",
        "        layer.trainable = False"
      ],
      "execution_count": 0,
      "outputs": []
    },
    {
      "cell_type": "markdown",
      "metadata": {
        "colab_type": "text",
        "id": "DEOVUkfmhOue"
      },
      "source": [
        "Now we can start fine-tuning our network. We will do this with the RMSprop optimizer, using a very low learning rate. The reason for using \n",
        "a low learning rate is that we want to limit the magnitude of the modifications we make to the representations of the 3 layers that we are \n",
        "fine-tuning. Updates that are too large may harm these representations.\n",
        "\n",
        "Now let's proceed with fine-tuning:"
      ]
    },
    {
      "cell_type": "code",
      "metadata": {
        "colab_type": "code",
        "id": "VWzVzpOQhOuf",
        "outputId": "f98abd66-c268-4275-a96f-6879e0ac3167",
        "colab": {
          "base_uri": "https://localhost:8080/",
          "height": 1000
        }
      },
      "source": [
        "model.compile(loss='binary_crossentropy',\n",
        "              optimizer=optimizers.RMSprop(lr=1e-5),\n",
        "              metrics=['acc'])\n",
        "\n",
        "history = model.fit_generator(\n",
        "      train_generator,\n",
        "      steps_per_epoch=100,\n",
        "      epochs=100,\n",
        "      validation_data=validation_generator,\n",
        "      validation_steps=50)"
      ],
      "execution_count": 23,
      "outputs": [
        {
          "output_type": "stream",
          "text": [
            "Epoch 1/100\n",
            "100/100 [==============================] - 31s 306ms/step - loss: 0.2987 - acc: 0.8705 - val_loss: 0.2234 - val_acc: 0.9110\n",
            "Epoch 2/100\n",
            "100/100 [==============================] - 28s 279ms/step - loss: 0.2707 - acc: 0.8865 - val_loss: 0.2271 - val_acc: 0.9120\n",
            "Epoch 3/100\n",
            "100/100 [==============================] - 28s 279ms/step - loss: 0.2375 - acc: 0.9030 - val_loss: 0.2022 - val_acc: 0.9180\n",
            "Epoch 4/100\n",
            "100/100 [==============================] - 28s 277ms/step - loss: 0.2167 - acc: 0.9135 - val_loss: 0.1925 - val_acc: 0.9250\n",
            "Epoch 5/100\n",
            "100/100 [==============================] - 28s 277ms/step - loss: 0.2134 - acc: 0.9130 - val_loss: 0.2081 - val_acc: 0.9260\n",
            "Epoch 6/100\n",
            "100/100 [==============================] - 28s 277ms/step - loss: 0.1947 - acc: 0.9170 - val_loss: 0.1871 - val_acc: 0.9280\n",
            "Epoch 7/100\n",
            "100/100 [==============================] - 28s 279ms/step - loss: 0.1797 - acc: 0.9250 - val_loss: 0.2016 - val_acc: 0.9290\n",
            "Epoch 8/100\n",
            "100/100 [==============================] - 27s 275ms/step - loss: 0.1820 - acc: 0.9245 - val_loss: 0.2525 - val_acc: 0.9090\n",
            "Epoch 9/100\n",
            "100/100 [==============================] - 28s 279ms/step - loss: 0.1609 - acc: 0.9395 - val_loss: 0.1867 - val_acc: 0.9330\n",
            "Epoch 10/100\n",
            "100/100 [==============================] - 28s 275ms/step - loss: 0.1519 - acc: 0.9375 - val_loss: 0.2204 - val_acc: 0.9250\n",
            "Epoch 11/100\n",
            "100/100 [==============================] - 28s 276ms/step - loss: 0.1501 - acc: 0.9375 - val_loss: 0.1854 - val_acc: 0.9340\n",
            "Epoch 12/100\n",
            "100/100 [==============================] - 28s 277ms/step - loss: 0.1321 - acc: 0.9420 - val_loss: 0.1921 - val_acc: 0.9290\n",
            "Epoch 13/100\n",
            "100/100 [==============================] - 28s 277ms/step - loss: 0.1290 - acc: 0.9510 - val_loss: 0.1877 - val_acc: 0.9280\n",
            "Epoch 14/100\n",
            "100/100 [==============================] - 28s 277ms/step - loss: 0.1190 - acc: 0.9510 - val_loss: 0.2405 - val_acc: 0.9140\n",
            "Epoch 15/100\n",
            "100/100 [==============================] - 28s 275ms/step - loss: 0.1311 - acc: 0.9510 - val_loss: 0.2177 - val_acc: 0.9200\n",
            "Epoch 16/100\n",
            "100/100 [==============================] - 28s 275ms/step - loss: 0.1143 - acc: 0.9550 - val_loss: 0.2001 - val_acc: 0.9310\n",
            "Epoch 17/100\n",
            "100/100 [==============================] - 27s 274ms/step - loss: 0.0962 - acc: 0.9645 - val_loss: 0.2031 - val_acc: 0.9270\n",
            "Epoch 18/100\n",
            "100/100 [==============================] - 28s 276ms/step - loss: 0.0992 - acc: 0.9605 - val_loss: 0.2035 - val_acc: 0.9330\n",
            "Epoch 19/100\n",
            "100/100 [==============================] - 28s 276ms/step - loss: 0.1101 - acc: 0.9560 - val_loss: 0.2135 - val_acc: 0.9280\n",
            "Epoch 20/100\n",
            "100/100 [==============================] - 28s 280ms/step - loss: 0.0992 - acc: 0.9660 - val_loss: 0.2066 - val_acc: 0.9320\n",
            "Epoch 21/100\n",
            "100/100 [==============================] - 28s 276ms/step - loss: 0.0919 - acc: 0.9655 - val_loss: 0.1804 - val_acc: 0.9360\n",
            "Epoch 22/100\n",
            "100/100 [==============================] - 28s 276ms/step - loss: 0.0813 - acc: 0.9695 - val_loss: 0.2112 - val_acc: 0.9230\n",
            "Epoch 23/100\n",
            "100/100 [==============================] - 28s 277ms/step - loss: 0.0908 - acc: 0.9635 - val_loss: 0.2029 - val_acc: 0.9280\n",
            "Epoch 24/100\n",
            "100/100 [==============================] - 28s 280ms/step - loss: 0.0833 - acc: 0.9710 - val_loss: 0.2153 - val_acc: 0.9300\n",
            "Epoch 25/100\n",
            "100/100 [==============================] - 28s 275ms/step - loss: 0.0791 - acc: 0.9685 - val_loss: 0.1880 - val_acc: 0.9400\n",
            "Epoch 26/100\n",
            "100/100 [==============================] - 28s 278ms/step - loss: 0.0758 - acc: 0.9710 - val_loss: 0.1952 - val_acc: 0.9340\n",
            "Epoch 27/100\n",
            "100/100 [==============================] - 28s 277ms/step - loss: 0.0698 - acc: 0.9715 - val_loss: 0.2909 - val_acc: 0.9170\n",
            "Epoch 28/100\n",
            "100/100 [==============================] - 28s 276ms/step - loss: 0.0727 - acc: 0.9715 - val_loss: 0.2145 - val_acc: 0.9300\n",
            "Epoch 29/100\n",
            "100/100 [==============================] - 28s 278ms/step - loss: 0.0807 - acc: 0.9690 - val_loss: 0.2160 - val_acc: 0.9330\n",
            "Epoch 30/100\n",
            "100/100 [==============================] - 28s 277ms/step - loss: 0.0732 - acc: 0.9710 - val_loss: 0.1921 - val_acc: 0.9360\n",
            "Epoch 31/100\n",
            "100/100 [==============================] - 28s 281ms/step - loss: 0.0690 - acc: 0.9745 - val_loss: 0.1881 - val_acc: 0.9350\n",
            "Epoch 32/100\n",
            "100/100 [==============================] - 28s 276ms/step - loss: 0.0608 - acc: 0.9805 - val_loss: 0.1836 - val_acc: 0.9410\n",
            "Epoch 33/100\n",
            "100/100 [==============================] - 28s 277ms/step - loss: 0.0631 - acc: 0.9770 - val_loss: 0.3371 - val_acc: 0.9110\n",
            "Epoch 34/100\n",
            "100/100 [==============================] - 28s 278ms/step - loss: 0.0543 - acc: 0.9760 - val_loss: 0.3046 - val_acc: 0.9180\n",
            "Epoch 35/100\n",
            "100/100 [==============================] - 28s 277ms/step - loss: 0.0548 - acc: 0.9800 - val_loss: 0.2215 - val_acc: 0.9320\n",
            "Epoch 36/100\n",
            "100/100 [==============================] - 28s 278ms/step - loss: 0.0652 - acc: 0.9750 - val_loss: 0.2007 - val_acc: 0.9390\n",
            "Epoch 37/100\n",
            "100/100 [==============================] - 28s 277ms/step - loss: 0.0589 - acc: 0.9770 - val_loss: 0.2568 - val_acc: 0.9230\n",
            "Epoch 38/100\n",
            "100/100 [==============================] - 28s 279ms/step - loss: 0.0615 - acc: 0.9800 - val_loss: 0.2189 - val_acc: 0.9270\n",
            "Epoch 39/100\n",
            "100/100 [==============================] - 28s 279ms/step - loss: 0.0527 - acc: 0.9810 - val_loss: 0.2299 - val_acc: 0.9380\n",
            "Epoch 40/100\n",
            "100/100 [==============================] - 28s 279ms/step - loss: 0.0513 - acc: 0.9830 - val_loss: 0.2428 - val_acc: 0.9350\n",
            "Epoch 41/100\n",
            "100/100 [==============================] - 28s 277ms/step - loss: 0.0526 - acc: 0.9825 - val_loss: 0.1783 - val_acc: 0.9430\n",
            "Epoch 42/100\n",
            "100/100 [==============================] - 28s 281ms/step - loss: 0.0488 - acc: 0.9805 - val_loss: 0.2954 - val_acc: 0.9260\n",
            "Epoch 43/100\n",
            "100/100 [==============================] - 28s 276ms/step - loss: 0.0501 - acc: 0.9815 - val_loss: 0.2280 - val_acc: 0.9280\n",
            "Epoch 44/100\n",
            "100/100 [==============================] - 28s 277ms/step - loss: 0.0503 - acc: 0.9810 - val_loss: 0.2326 - val_acc: 0.9340\n",
            "Epoch 45/100\n",
            "100/100 [==============================] - 28s 277ms/step - loss: 0.0528 - acc: 0.9790 - val_loss: 0.2007 - val_acc: 0.9330\n",
            "Epoch 46/100\n",
            "100/100 [==============================] - 28s 278ms/step - loss: 0.0401 - acc: 0.9870 - val_loss: 0.2239 - val_acc: 0.9320\n",
            "Epoch 47/100\n",
            "100/100 [==============================] - 28s 276ms/step - loss: 0.0448 - acc: 0.9820 - val_loss: 0.2478 - val_acc: 0.9330\n",
            "Epoch 48/100\n",
            "100/100 [==============================] - 28s 277ms/step - loss: 0.0427 - acc: 0.9835 - val_loss: 0.2313 - val_acc: 0.9370\n",
            "Epoch 49/100\n",
            "100/100 [==============================] - 28s 277ms/step - loss: 0.0357 - acc: 0.9860 - val_loss: 0.2559 - val_acc: 0.9310\n",
            "Epoch 50/100\n",
            "100/100 [==============================] - 28s 278ms/step - loss: 0.0444 - acc: 0.9860 - val_loss: 0.2807 - val_acc: 0.9290\n",
            "Epoch 51/100\n",
            "100/100 [==============================] - 28s 280ms/step - loss: 0.0329 - acc: 0.9870 - val_loss: 0.3053 - val_acc: 0.9320\n",
            "Epoch 52/100\n",
            "100/100 [==============================] - 28s 278ms/step - loss: 0.0425 - acc: 0.9830 - val_loss: 0.2655 - val_acc: 0.9330\n",
            "Epoch 53/100\n",
            "100/100 [==============================] - 28s 277ms/step - loss: 0.0320 - acc: 0.9890 - val_loss: 0.2500 - val_acc: 0.9310\n",
            "Epoch 54/100\n",
            "100/100 [==============================] - 28s 277ms/step - loss: 0.0271 - acc: 0.9900 - val_loss: 0.2621 - val_acc: 0.9300\n",
            "Epoch 55/100\n",
            "100/100 [==============================] - 28s 276ms/step - loss: 0.0313 - acc: 0.9890 - val_loss: 0.2922 - val_acc: 0.9290\n",
            "Epoch 56/100\n",
            "100/100 [==============================] - 27s 275ms/step - loss: 0.0279 - acc: 0.9895 - val_loss: 0.2361 - val_acc: 0.9400\n",
            "Epoch 57/100\n",
            "100/100 [==============================] - 28s 275ms/step - loss: 0.0323 - acc: 0.9895 - val_loss: 0.2689 - val_acc: 0.9360\n",
            "Epoch 58/100\n",
            "100/100 [==============================] - 28s 277ms/step - loss: 0.0307 - acc: 0.9875 - val_loss: 0.2376 - val_acc: 0.9390\n",
            "Epoch 59/100\n",
            "100/100 [==============================] - 28s 275ms/step - loss: 0.0304 - acc: 0.9905 - val_loss: 0.4036 - val_acc: 0.9190\n",
            "Epoch 60/100\n",
            "100/100 [==============================] - 28s 276ms/step - loss: 0.0398 - acc: 0.9885 - val_loss: 0.2572 - val_acc: 0.9380\n",
            "Epoch 61/100\n",
            "100/100 [==============================] - 27s 275ms/step - loss: 0.0349 - acc: 0.9875 - val_loss: 0.2449 - val_acc: 0.9330\n",
            "Epoch 62/100\n",
            "100/100 [==============================] - 28s 275ms/step - loss: 0.0293 - acc: 0.9880 - val_loss: 0.2413 - val_acc: 0.9360\n",
            "Epoch 63/100\n",
            "100/100 [==============================] - 27s 274ms/step - loss: 0.0304 - acc: 0.9890 - val_loss: 0.2624 - val_acc: 0.9350\n",
            "Epoch 64/100\n",
            "100/100 [==============================] - 28s 275ms/step - loss: 0.0322 - acc: 0.9900 - val_loss: 0.2463 - val_acc: 0.9360\n",
            "Epoch 65/100\n",
            "100/100 [==============================] - 28s 282ms/step - loss: 0.0354 - acc: 0.9865 - val_loss: 0.2506 - val_acc: 0.9360\n",
            "Epoch 66/100\n",
            "100/100 [==============================] - 27s 274ms/step - loss: 0.0298 - acc: 0.9900 - val_loss: 0.2661 - val_acc: 0.9350\n",
            "Epoch 67/100\n",
            "100/100 [==============================] - 28s 275ms/step - loss: 0.0224 - acc: 0.9920 - val_loss: 0.3013 - val_acc: 0.9280\n",
            "Epoch 68/100\n",
            "100/100 [==============================] - 28s 278ms/step - loss: 0.0259 - acc: 0.9900 - val_loss: 0.2789 - val_acc: 0.9370\n",
            "Epoch 69/100\n",
            "100/100 [==============================] - 28s 279ms/step - loss: 0.0281 - acc: 0.9890 - val_loss: 0.2661 - val_acc: 0.9400\n",
            "Epoch 70/100\n",
            "100/100 [==============================] - 27s 274ms/step - loss: 0.0279 - acc: 0.9930 - val_loss: 0.2782 - val_acc: 0.9300\n",
            "Epoch 71/100\n",
            "100/100 [==============================] - 27s 274ms/step - loss: 0.0218 - acc: 0.9935 - val_loss: 0.2712 - val_acc: 0.9370\n",
            "Epoch 72/100\n",
            "100/100 [==============================] - 28s 275ms/step - loss: 0.0264 - acc: 0.9915 - val_loss: 0.2774 - val_acc: 0.9380\n",
            "Epoch 73/100\n",
            "100/100 [==============================] - 27s 273ms/step - loss: 0.0231 - acc: 0.9910 - val_loss: 0.2896 - val_acc: 0.9310\n",
            "Epoch 74/100\n",
            "100/100 [==============================] - 27s 274ms/step - loss: 0.0331 - acc: 0.9885 - val_loss: 0.2296 - val_acc: 0.9450\n",
            "Epoch 75/100\n",
            "100/100 [==============================] - 27s 273ms/step - loss: 0.0311 - acc: 0.9870 - val_loss: 0.2281 - val_acc: 0.9410\n",
            "Epoch 76/100\n",
            "100/100 [==============================] - 28s 276ms/step - loss: 0.0177 - acc: 0.9945 - val_loss: 0.3512 - val_acc: 0.9250\n",
            "Epoch 77/100\n",
            "100/100 [==============================] - 27s 273ms/step - loss: 0.0301 - acc: 0.9900 - val_loss: 0.2659 - val_acc: 0.9350\n",
            "Epoch 78/100\n",
            "100/100 [==============================] - 27s 273ms/step - loss: 0.0208 - acc: 0.9935 - val_loss: 0.3194 - val_acc: 0.9290\n",
            "Epoch 79/100\n",
            "100/100 [==============================] - 27s 273ms/step - loss: 0.0331 - acc: 0.9880 - val_loss: 0.3111 - val_acc: 0.9320\n",
            "Epoch 80/100\n",
            "100/100 [==============================] - 27s 271ms/step - loss: 0.0316 - acc: 0.9860 - val_loss: 0.4880 - val_acc: 0.9130\n",
            "Epoch 81/100\n",
            "100/100 [==============================] - 27s 271ms/step - loss: 0.0219 - acc: 0.9930 - val_loss: 0.2748 - val_acc: 0.9370\n",
            "Epoch 82/100\n",
            "100/100 [==============================] - 27s 272ms/step - loss: 0.0262 - acc: 0.9915 - val_loss: 0.3355 - val_acc: 0.9290\n",
            "Epoch 83/100\n",
            "100/100 [==============================] - 27s 272ms/step - loss: 0.0209 - acc: 0.9940 - val_loss: 0.2686 - val_acc: 0.9400\n",
            "Epoch 84/100\n",
            "100/100 [==============================] - 27s 272ms/step - loss: 0.0205 - acc: 0.9915 - val_loss: 0.2727 - val_acc: 0.9390\n",
            "Epoch 85/100\n",
            "100/100 [==============================] - 27s 275ms/step - loss: 0.0224 - acc: 0.9925 - val_loss: 0.2378 - val_acc: 0.9340\n",
            "Epoch 86/100\n",
            "100/100 [==============================] - 27s 274ms/step - loss: 0.0195 - acc: 0.9935 - val_loss: 0.2620 - val_acc: 0.9370\n",
            "Epoch 87/100\n",
            "100/100 [==============================] - 28s 275ms/step - loss: 0.0120 - acc: 0.9965 - val_loss: 0.2792 - val_acc: 0.9340\n",
            "Epoch 88/100\n",
            "100/100 [==============================] - 29s 288ms/step - loss: 0.0275 - acc: 0.9925 - val_loss: 0.3740 - val_acc: 0.9260\n",
            "Epoch 89/100\n",
            "100/100 [==============================] - 28s 278ms/step - loss: 0.0168 - acc: 0.9940 - val_loss: 0.2788 - val_acc: 0.9290\n",
            "Epoch 90/100\n",
            "100/100 [==============================] - 28s 278ms/step - loss: 0.0170 - acc: 0.9940 - val_loss: 0.2809 - val_acc: 0.9370\n",
            "Epoch 91/100\n",
            "100/100 [==============================] - 28s 278ms/step - loss: 0.0346 - acc: 0.9905 - val_loss: 0.2738 - val_acc: 0.9360\n",
            "Epoch 92/100\n",
            "100/100 [==============================] - 27s 274ms/step - loss: 0.0210 - acc: 0.9920 - val_loss: 0.2866 - val_acc: 0.9360\n",
            "Epoch 93/100\n",
            "100/100 [==============================] - 28s 275ms/step - loss: 0.0148 - acc: 0.9940 - val_loss: 0.2911 - val_acc: 0.9390\n",
            "Epoch 94/100\n",
            "100/100 [==============================] - 28s 277ms/step - loss: 0.0257 - acc: 0.9905 - val_loss: 0.3304 - val_acc: 0.9280\n",
            "Epoch 95/100\n",
            "100/100 [==============================] - 28s 279ms/step - loss: 0.0195 - acc: 0.9950 - val_loss: 0.2629 - val_acc: 0.9370\n",
            "Epoch 96/100\n",
            "100/100 [==============================] - 28s 280ms/step - loss: 0.0155 - acc: 0.9945 - val_loss: 0.2734 - val_acc: 0.9370\n",
            "Epoch 97/100\n",
            "100/100 [==============================] - 28s 277ms/step - loss: 0.0155 - acc: 0.9925 - val_loss: 0.2763 - val_acc: 0.9400\n",
            "Epoch 98/100\n",
            "100/100 [==============================] - 27s 274ms/step - loss: 0.0244 - acc: 0.9905 - val_loss: 0.2794 - val_acc: 0.9400\n",
            "Epoch 99/100\n",
            "100/100 [==============================] - 28s 276ms/step - loss: 0.0199 - acc: 0.9930 - val_loss: 0.2823 - val_acc: 0.9380\n",
            "Epoch 100/100\n",
            "100/100 [==============================] - 27s 272ms/step - loss: 0.0230 - acc: 0.9920 - val_loss: 0.2825 - val_acc: 0.9410\n"
          ],
          "name": "stdout"
        }
      ]
    },
    {
      "cell_type": "code",
      "metadata": {
        "colab_type": "code",
        "id": "cl3K4AayhOui",
        "colab": {}
      },
      "source": [
        "model.save('cats_and_dogs_small_4.h5')"
      ],
      "execution_count": 0,
      "outputs": []
    },
    {
      "cell_type": "markdown",
      "metadata": {
        "colab_type": "text",
        "id": "w_9iu8TahOuk"
      },
      "source": [
        "Let's plot our results using the same plotting code as before:"
      ]
    },
    {
      "cell_type": "code",
      "metadata": {
        "colab_type": "code",
        "id": "Dv0LQHfDhOuk",
        "colab": {
          "base_uri": "https://localhost:8080/",
          "height": 545
        },
        "outputId": "bfb37f6d-55e3-48a6-caf7-310c010843d6"
      },
      "source": [
        "acc = history.history['acc']\n",
        "val_acc = history.history['val_acc']\n",
        "loss = history.history['loss']\n",
        "val_loss = history.history['val_loss']\n",
        "\n",
        "epochs = range(len(acc))\n",
        "\n",
        "plt.plot(epochs, acc, 'bo', label='Training acc')\n",
        "plt.plot(epochs, val_acc, 'b', label='Validation acc')\n",
        "plt.title('Training and validation accuracy')\n",
        "plt.legend()\n",
        "\n",
        "plt.figure()\n",
        "\n",
        "plt.plot(epochs, loss, 'bo', label='Training loss')\n",
        "plt.plot(epochs, val_loss, 'b', label='Validation loss')\n",
        "plt.title('Training and validation loss')\n",
        "plt.legend()\n",
        "\n",
        "plt.show()"
      ],
      "execution_count": 25,
      "outputs": [
        {
          "output_type": "display_data",
          "data": {
            "image/png": "[encoded data removed]",
            "text/plain": [
              "<Figure size 432x288 with 1 Axes>"
            ]
          },
          "metadata": {
            "tags": []
          }
        },
        {
          "output_type": "display_data",
          "data": {
            "image/png": "[encoded data removed]",
            "text/plain": [
              "<Figure size 432x288 with 1 Axes>"
            ]
          },
          "metadata": {
            "tags": []
          }
        }
      ]
    },
    {
      "cell_type": "markdown",
      "metadata": {
        "colab_type": "text",
        "id": "lG7QdwyGhOum"
      },
      "source": [
        "\n",
        "These curves look very noisy. To make them more readable, we can smooth them by replacing every loss and accuracy with exponential moving \n",
        "averages of these quantities. Here's a trivial utility function to do this:"
      ]
    },
    {
      "cell_type": "code",
      "metadata": {
        "colab_type": "code",
        "id": "ISbBrOk2hOum",
        "colab": {
          "base_uri": "https://localhost:8080/",
          "height": 545
        },
        "outputId": "3401857a-a6a8-4994-8137-68aec83ee3d5"
      },
      "source": [
        "def smooth_curve(points, factor=0.8):\n",
        "  smoothed_points = []\n",
        "  for point in points:\n",
        "    if smoothed_points:\n",
        "      previous = smoothed_points[-1]\n",
        "      smoothed_points.append(previous * factor + point * (1 - factor))\n",
        "    else:\n",
        "      smoothed_points.append(point)\n",
        "  return smoothed_points\n",
        "\n",
        "plt.plot(epochs,\n",
        "         smooth_curve(acc), 'bo', label='Smoothed training acc')\n",
        "plt.plot(epochs,\n",
        "         smooth_curve(val_acc), 'b', label='Smoothed validation acc')\n",
        "plt.title('Training and validation accuracy')\n",
        "plt.legend()\n",
        "\n",
        "plt.figure()\n",
        "\n",
        "plt.plot(epochs,\n",
        "         smooth_curve(loss), 'bo', label='Smoothed training loss')\n",
        "plt.plot(epochs,\n",
        "         smooth_curve(val_loss), 'b', label='Smoothed validation loss')\n",
        "plt.title('Training and validation loss')\n",
        "plt.legend()\n",
        "\n",
        "plt.show()"
      ],
      "execution_count": 26,
      "outputs": [
        {
          "output_type": "display_data",
          "data": {
            "image/png": "[encoded data removed]",
            "text/plain": [
              "<Figure size 432x288 with 1 Axes>"
            ]
          },
          "metadata": {
            "tags": []
          }
        },
        {
          "output_type": "display_data",
          "data": {
            "image/png": "[encoded data removed]",
            "text/plain": [
              "<Figure size 432x288 with 1 Axes>"
            ]
          },
          "metadata": {
            "tags": []
          }
        }
      ]
    },
    {
      "cell_type": "markdown",
      "metadata": {
        "colab_type": "text",
        "id": "At2OBctnhOuo"
      },
      "source": [
        "\n",
        "These curves look much cleaner and more stable. We are seeing a nice 1% absolute improvement.\n",
        "\n",
        "Note that the loss curve does not show any real improvement (in fact, it is deteriorating). You may wonder, how could accuracy improve if the \n",
        "loss isn't decreasing? The answer is simple: what we display is an average of pointwise loss values, but what actually matters for accuracy \n",
        "is the distribution of the loss values, not their average, since accuracy is the result of a binary thresholding of the class probability \n",
        "predicted by the model. The model may still be improving even if this isn't reflected in the average loss.\n",
        "\n",
        "We can now finally evaluate this model on the test data:"
      ]
    },
    {
      "cell_type": "code",
      "metadata": {
        "colab_type": "code",
        "id": "xtX99bnQhOuo",
        "colab": {
          "base_uri": "https://localhost:8080/",
          "height": 52
        },
        "outputId": "5f1f1825-45da-4337-f4bb-06e453744c4a"
      },
      "source": [
        "test_generator = test_datagen.flow_from_directory(\n",
        "        test_dir,\n",
        "        target_size=(150, 150),\n",
        "        batch_size=20,\n",
        "        class_mode='binary')\n",
        "\n",
        "test_loss, test_acc = model.evaluate_generator(test_generator, steps=50)\n",
        "print('test acc:', test_acc)"
      ],
      "execution_count": 27,
      "outputs": [
        {
          "output_type": "stream",
          "text": [
            "Found 1000 images belonging to 2 classes.\n",
            "test acc: 0.9429999923706055\n"
          ],
          "name": "stdout"
        }
      ]
    },
    {
      "cell_type": "markdown",
      "metadata": {
        "colab_type": "text",
        "id": "aYq6S9AChOut"
      },
      "source": [
        "\n",
        "Here we get a test accuracy of 97%. In the original Kaggle competition around this dataset, this would have been one of the top results. \n",
        "However, using modern deep learning techniques, we managed to reach this result using only a very small fraction of the training data \n",
        "available (about 10%). There is a huge difference between being able to train on 20,000 samples compared to 2,000 samples!"
      ]
    },
    {
      "cell_type": "markdown",
      "metadata": {
        "colab_type": "text",
        "id": "gPbFH_EGhOut"
      },
      "source": [
        "## Take-aways: using convnets with small datasets\n",
        "\n",
        "Here's what you should take away from the exercises of these past two sections:\n",
        "\n",
        "* Convnets are the best type of machine learning models for computer vision tasks. It is possible to train one from scratch even on a very \n",
        "small dataset, with decent results.\n",
        "* On a small dataset, overfitting will be the main issue. Data augmentation is a powerful way to fight overfitting when working with image \n",
        "data.\n",
        "* It is easy to reuse an existing convnet on a new dataset, via feature extraction. This is a very valuable technique for working with \n",
        "small image datasets.\n",
        "* As a complement to feature extraction, one may use fine-tuning, which adapts to a new problem some of the representations previously \n",
        "learned by an existing model. This pushes performance a bit further.\n",
        "\n",
        "Now you have a solid set of tools for dealing with image classification problems, in particular with small datasets."
      ]
    }
  ]
}